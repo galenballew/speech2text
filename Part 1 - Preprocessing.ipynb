{
 "cells": [
  {
   "cell_type": "code",
   "execution_count": 1,
   "metadata": {
    "collapsed": false,
    "deletable": true,
    "editable": true
   },
   "outputs": [],
   "source": [
    "import io\n",
    "import os\n",
    "import time\n",
    "import pickle\n",
    "from pymongo import MongoClient\n",
    "\n",
    "# Imports the Google Cloud client library\n",
    "from google.cloud import speech\n",
    "from google.cloud import storage"
   ]
  },
  {
   "cell_type": "code",
   "execution_count": 2,
   "metadata": {
    "collapsed": false,
    "deletable": true,
    "editable": true
   },
   "outputs": [],
   "source": [
    "#connect to database\n",
    "mongo_client = MongoClient()\n",
    "speech2text = mongo_client.speech2text"
   ]
  },
  {
   "cell_type": "code",
   "execution_count": 3,
   "metadata": {
    "collapsed": true,
    "deletable": true,
    "editable": true
   },
   "outputs": [],
   "source": [
    "videos = speech2text.videos"
   ]
  },
  {
   "cell_type": "code",
   "execution_count": 5,
   "metadata": {
    "collapsed": false,
    "deletable": true,
    "editable": true
   },
   "outputs": [],
   "source": [
    "# Instantiates a client\n",
    "speech_client = speech.Client()\n",
    "storage_client = storage.Client(project='speech-to-nlp')"
   ]
  },
  {
   "cell_type": "code",
   "execution_count": 6,
   "metadata": {
    "collapsed": false,
    "deletable": true,
    "editable": true
   },
   "outputs": [],
   "source": [
    "# connect to bucket. buckets are storage depots\n",
    "try:\n",
    "    bucket = storage_client.get_bucket('galen_interviews')\n",
    "except google.cloud.exceptions.NotFound:\n",
    "    print('Sorry, that bucket does not exist!')"
   ]
  },
  {
   "cell_type": "code",
   "execution_count": 7,
   "metadata": {
    "collapsed": false,
    "deletable": true,
    "editable": true
   },
   "outputs": [],
   "source": [
    "# create sample instance using whatever audiofile you want to transcribe\n",
    "audio_sample = speech_client.sample(\n",
    "            source_uri='gs://galen_interviews/file1.raw',\n",
    "            encoding='LINEAR16',\n",
    "            sample_rate=16000)"
   ]
  },
  {
   "cell_type": "code",
   "execution_count": 8,
   "metadata": {
    "collapsed": false,
    "deletable": true,
    "editable": true
   },
   "outputs": [
    {
     "name": "stdout",
     "output_type": "stream",
     "text": [
      "Operation complete!\n"
     ]
    }
   ],
   "source": [
    "#this is the \"model.fit()\" of the speech api\n",
    "operation = speech_client.speech_api.async_recognize(audio_sample)\n",
    "\n",
    "retry_count = 3000\n",
    "while retry_count > 0 and not operation.complete:\n",
    "    retry_count -= 1\n",
    "    time.sleep(2)\n",
    "    operation.poll()\n",
    "\n",
    "if operation.complete:\n",
    "    print('Operation complete!')\n",
    "else:\n",
    "    print('Failed.')\n",
    "\n",
    "#alternatives come with the transcribed text and a confidence score \n",
    "alternatives = operation.results\n",
    "\n",
    "#put the text into the database\n",
    "for alternative in alternatives:\n",
    "    text = ''\n",
    "    text_dict = {}\n",
    "    text+= alternative.transcript\n",
    "    text_dict['text'] = text\n",
    "    videos.insert_one(text_dict)"
   ]
  },
  {
   "cell_type": "markdown",
   "metadata": {},
   "source": [
    "I put the operation above into a python script and ran it through console. It's important that it's wrapped inside of a function and the entire client is reinitialized - otherwise the API connections will stack up (i.e. try to have more than one connection at once) and it will throw a 502 server error. I tried to fix this, but there is currently no explicit way to close a connection before you open another.\n",
    "\n",
    "The code below is what I was trying to do before without success."
   ]
  },
  {
   "cell_type": "code",
   "execution_count": null,
   "metadata": {
    "collapsed": true,
    "deletable": true,
    "editable": true
   },
   "outputs": [],
   "source": [
    "#create txt with all URI file paths\n",
    "%%bash\n",
    "gsutil ls gs://galen_interviews/ >> gs_paths.txt"
   ]
  },
  {
   "cell_type": "code",
   "execution_count": null,
   "metadata": {
    "collapsed": true,
    "deletable": true,
    "editable": true
   },
   "outputs": [],
   "source": [
    "# instantiate all of the sample instances\n",
    "# then loop over audio_samples to API \n",
    "audio_samples = []\n",
    "with io.open('gs_paths.txt', 'rb') as paths:\n",
    "    for file_name in paths:\n",
    "        audio_sample = speech_client.sample(\n",
    "            source_uri=file_name,\n",
    "            encoding='LINEAR16',\n",
    "            sample_rate=16000)\n",
    "        audio_samples.append(audio_sample)"
   ]
  },
  {
   "cell_type": "code",
   "execution_count": null,
   "metadata": {
    "collapsed": true
   },
   "outputs": [],
   "source": []
  }
 ],
 "metadata": {
  "anaconda-cloud": {},
  "kernelspec": {
   "display_name": "Python [conda root]",
   "language": "python",
   "name": "conda-root-py"
  },
  "language_info": {
   "codemirror_mode": {
    "name": "ipython",
    "version": 3
   },
   "file_extension": ".py",
   "mimetype": "text/x-python",
   "name": "python",
   "nbconvert_exporter": "python",
   "pygments_lexer": "ipython3",
   "version": "3.5.3"
  }
 },
 "nbformat": 4,
 "nbformat_minor": 2
}
